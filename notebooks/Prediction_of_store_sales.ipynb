{
 "cells": [
  {
   "cell_type": "markdown",
   "metadata": {},
   "source": [
    "## Preprocessing"
   ]
  },
  {
   "cell_type": "code",
   "execution_count": 3,
   "metadata": {},
   "outputs": [
    {
     "name": "stderr",
     "output_type": "stream",
     "text": [
      "/tmp/ipykernel_278671/1035110581.py:7: DtypeWarning: Columns (7) have mixed types. Specify dtype option on import or set low_memory=False.\n",
      "  train_df = pd.read_csv('../assets/datas/train.csv')\n"
     ]
    },
    {
     "name": "stdout",
     "output_type": "stream",
     "text": [
      "Non-numeric columns found: ['PromoInterval']\n"
     ]
    }
   ],
   "source": [
    "import pandas as pd\n",
    "import numpy as np\n",
    "from sklearn.preprocessing import StandardScaler\n",
    "from sklearn.model_selection import train_test_split\n",
    "\n",
    "# Load data\n",
    "train_df = pd.read_csv('../assets/datas/train.csv')\n",
    "store_df = pd.read_csv('../assets/datas/store.csv')\n",
    "\n",
    "# Merge data\n",
    "data = pd.merge(train_df, store_df, on='Store')\n",
    "\n",
    "# Convert Date column to datetime\n",
    "data['Date'] = pd.to_datetime(data['Date'])\n",
    "\n",
    "# Extract new features from Date\n",
    "data['Weekday'] = data['Date'].dt.weekday\n",
    "data['Weekend'] = data['Weekday'].apply(lambda x: 1 if x >= 5 else 0)\n",
    "data['Month'] = data['Date'].dt.month\n",
    "data['Day'] = data['Date'].dt.day\n",
    "data['Year'] = data['Date'].dt.year\n",
    "data['WeekOfYear'] = data['Date'].dt.isocalendar().week\n",
    "\n",
    "# Example: Days to next holiday (assuming holidays are known)\n",
    "holidays = pd.to_datetime(['2023-12-25', '2023-01-01'])  # Add more holidays as needed\n",
    "data['DaysToHoliday'] = data['Date'].apply(lambda x: (holidays - x).days.min())\n",
    "\n",
    "# Handle NaN values\n",
    "data.fillna(0, inplace=True)\n",
    "\n",
    "# Convert categorical columns to numeric\n",
    "data = pd.get_dummies(data, columns=['StoreType', 'Assortment', 'StateHoliday'])\n",
    "\n",
    "# Drop columns that won't be used\n",
    "data.drop(['Date', 'Customers'], axis=1, inplace=True)\n",
    "\n",
    "# Ensure all columns are numeric\n",
    "non_numeric_columns = data.select_dtypes(include=['object']).columns\n",
    "if not non_numeric_columns.empty:\n",
    "    print(f\"Non-numeric columns found: {non_numeric_columns.tolist()}\")\n",
    "\n",
    "# Convert any remaining non-numeric columns to numeric\n",
    "# Example: Handling 'PromoInterval'\n",
    "if 'PromoInterval' in data.columns:\n",
    "    data['PromoInterval'] = data['PromoInterval'].apply(\n",
    "        lambda x: 0 if x == 0 else len(x.split(',')) if isinstance(x, str) else 0\n",
    "    )\n",
    "\n",
    "# Split data into features and target\n",
    "X = data.drop('Sales', axis=1)\n",
    "y = data['Sales']\n",
    "\n",
    "# Scale the data\n",
    "scaler = StandardScaler()\n",
    "X_scaled = scaler.fit_transform(X)\n",
    "\n",
    "# Split data into training and testing sets\n",
    "X_train, X_test, y_train, y_test = train_test_split(X_scaled, y, test_size=0.2, random_state=42)\n"
   ]
  },
  {
   "cell_type": "markdown",
   "metadata": {},
   "source": [
    "## Building Models with Sklearn Pipelines"
   ]
  },
  {
   "cell_type": "code",
   "execution_count": null,
   "metadata": {},
   "outputs": [],
   "source": [
    "from sklearn.pipeline import Pipeline\n",
    "from sklearn.ensemble import RandomForestRegressor\n",
    "from sklearn.metrics import mean_squared_error\n",
    "\n",
    "# Define the pipeline\n",
    "pipeline = Pipeline([\n",
    "    ('scaler', StandardScaler()),\n",
    "    ('regressor', RandomForestRegressor(n_estimators=100, random_state=42))\n",
    "])\n",
    "\n",
    "# Train the model\n",
    "pipeline.fit(X_train, y_train)\n",
    "\n",
    "# Make predictions\n",
    "y_pred = pipeline.predict(X_test)\n",
    "\n",
    "# Evaluate the model\n",
    "mse = mean_squared_error(y_test, y_pred)\n",
    "print(f'Mean Squared Error: {mse}')"
   ]
  },
  {
   "cell_type": "code",
   "execution_count": null,
   "metadata": {},
   "outputs": [],
   "source": []
  }
 ],
 "metadata": {
  "kernelspec": {
   "display_name": ".venv",
   "language": "python",
   "name": "python3"
  },
  "language_info": {
   "codemirror_mode": {
    "name": "ipython",
    "version": 3
   },
   "file_extension": ".py",
   "mimetype": "text/x-python",
   "name": "python",
   "nbconvert_exporter": "python",
   "pygments_lexer": "ipython3",
   "version": "3.10.12"
  }
 },
 "nbformat": 4,
 "nbformat_minor": 2
}
