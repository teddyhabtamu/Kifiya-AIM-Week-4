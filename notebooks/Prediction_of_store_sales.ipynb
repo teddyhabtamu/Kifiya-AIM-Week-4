{
  "cells": [
    {
      "cell_type": "markdown",
      "metadata": {
        "id": "JhT-PP5PTgiC"
      },
      "source": [
        "## Preprocessing"
      ]
    },
    {
      "cell_type": "code",
      "execution_count": 2,
      "metadata": {
        "colab": {
          "base_uri": "https://localhost:8080/"
        },
        "id": "kp0_mbnpTgiE",
        "outputId": "7f452f8e-0c7e-465b-999e-7ecbb8319c2f"
      },
      "outputs": [
        {
          "output_type": "stream",
          "name": "stdout",
          "text": [
            "Mounted at /content/drive\n"
          ]
        },
        {
          "output_type": "stream",
          "name": "stderr",
          "text": [
            "<ipython-input-2-fb0b35d5d4f0>:13: DtypeWarning: Columns (7) have mixed types. Specify dtype option on import or set low_memory=False.\n",
            "  train_df = pd.read_csv('/content/drive/My Drive/data/train.csv')\n"
          ]
        },
        {
          "output_type": "stream",
          "name": "stdout",
          "text": [
            "Non-numeric columns found: ['PromoInterval']\n"
          ]
        }
      ],
      "source": [
        "import pandas as pd\n",
        "import numpy as np\n",
        "from sklearn.preprocessing import StandardScaler\n",
        "from sklearn.model_selection import train_test_split\n",
        "\n",
        "\n",
        "\n",
        "from google.colab import drive\n",
        "drive.mount('/content/drive')\n",
        "\n",
        "\n",
        "\n",
        "train_df = pd.read_csv('/content/drive/My Drive/data/train.csv')\n",
        "store_df = pd.read_csv('/content/drive/My Drive/data/store.csv')\n",
        "\n",
        "\n",
        "\n",
        "\n",
        "# # Load data\n",
        "# train_df = pd.read_csv('../assets/datas/train.csv')\n",
        "# store_df = pd.read_csv('../assets/datas/store.csv')\n",
        "\n",
        "# Merge data\n",
        "data = pd.merge(train_df, store_df, on='Store')\n",
        "\n",
        "# Convert Date column to datetime\n",
        "data['Date'] = pd.to_datetime(data['Date'])\n",
        "\n",
        "# Extract new features from Date\n",
        "data['Weekday'] = data['Date'].dt.weekday\n",
        "data['Weekend'] = data['Weekday'].apply(lambda x: 1 if x >= 5 else 0)\n",
        "data['Month'] = data['Date'].dt.month\n",
        "data['Day'] = data['Date'].dt.day\n",
        "data['Year'] = data['Date'].dt.year\n",
        "data['WeekOfYear'] = data['Date'].dt.isocalendar().week\n",
        "\n",
        "# Example: Days to next holiday (assuming holidays are known)\n",
        "holidays = pd.to_datetime(['2023-12-25', '2023-01-01'])  # Add more holidays as needed\n",
        "data['DaysToHoliday'] = data['Date'].apply(lambda x: (holidays - x).days.min())\n",
        "\n",
        "# Handle NaN values\n",
        "data.fillna(0, inplace=True)\n",
        "\n",
        "# Convert categorical columns to numeric\n",
        "data = pd.get_dummies(data, columns=['StoreType', 'Assortment', 'StateHoliday'])\n",
        "\n",
        "# Drop columns that won't be used\n",
        "data.drop(['Date', 'Customers'], axis=1, inplace=True)\n",
        "\n",
        "# Ensure all columns are numeric\n",
        "non_numeric_columns = data.select_dtypes(include=['object']).columns\n",
        "if not non_numeric_columns.empty:\n",
        "    print(f\"Non-numeric columns found: {non_numeric_columns.tolist()}\")\n",
        "\n",
        "# Convert any remaining non-numeric columns to numeric\n",
        "# Example: Handling 'PromoInterval'\n",
        "if 'PromoInterval' in data.columns:\n",
        "    data['PromoInterval'] = data['PromoInterval'].apply(\n",
        "        lambda x: 0 if x == 0 else len(x.split(',')) if isinstance(x, str) else 0\n",
        "    )\n",
        "\n",
        "# Split data into features and target\n",
        "X = data.drop('Sales', axis=1)\n",
        "y = data['Sales']\n",
        "\n",
        "# Scale the data\n",
        "scaler = StandardScaler()\n",
        "X_scaled = scaler.fit_transform(X)\n",
        "\n",
        "# Split data into training and testing sets\n",
        "X_train, X_test, y_train, y_test = train_test_split(X_scaled, y, test_size=0.2, random_state=42)\n"
      ]
    },
    {
      "cell_type": "markdown",
      "metadata": {
        "id": "VI3W0MEZTgiH"
      },
      "source": [
        "## Building Models with Sklearn Pipelines"
      ]
    },
    {
      "cell_type": "code",
      "execution_count": null,
      "metadata": {
        "id": "w1nqdj6TTgiI"
      },
      "outputs": [],
      "source": [
        "from sklearn.pipeline import Pipeline\n",
        "from sklearn.ensemble import RandomForestRegressor\n",
        "from sklearn.metrics import mean_squared_error\n",
        "\n",
        "# Define the pipeline\n",
        "pipeline = Pipeline([\n",
        "    ('scaler', StandardScaler()),\n",
        "    ('regressor', RandomForestRegressor(n_estimators=100, random_state=42))\n",
        "])\n",
        "\n",
        "# Train the model\n",
        "pipeline.fit(X_train, y_train)\n",
        "\n",
        "# Make predictions\n",
        "y_pred = pipeline.predict(X_test)\n",
        "\n",
        "# Evaluate the model\n",
        "mse = mean_squared_error(y_test, y_pred)\n",
        "print(f'Mean Squared Error: {mse}')"
      ]
    },
    {
      "cell_type": "markdown",
      "source": [
        "## Post Prediction Analysis"
      ],
      "metadata": {
        "id": "s4iazmn3d77d"
      }
    },
    {
      "cell_type": "code",
      "source": [
        "import numpy as np\n",
        "import matplotlib.pyplot as plt\n",
        "from joblib import Parallel, delayed\n",
        "\n",
        "# Feature Importance\n",
        "importance = pipeline.named_steps['regressor'].feature_importances_\n",
        "features = X.columns\n",
        "plt.barh(features, importance)\n",
        "plt.xlabel(\"Importance\")\n",
        "plt.ylabel(\"Features\")\n",
        "plt.title(\"Feature Importance\")\n",
        "plt.show()\n",
        "\n",
        "# Confidence Interval using Parallelization\n",
        "def bootstrap_iteration(sample_indices):\n",
        "    sample_X, sample_y = X_test.iloc[sample_indices], y_test.iloc[sample_indices]\n",
        "    return pipeline.predict(sample_X)\n",
        "\n",
        "# Reduce the number of iterations to speed up the process\n",
        "predictions = Parallel(n_jobs=-1)(delayed(bootstrap_iteration)(np.random.choice(len(X_test), len(X_test), replace=True)) for _ in range(30))  # Reduced iterations\n",
        "\n",
        "predictions = np.array(predictions)\n",
        "\n",
        "# Calculate confidence intervals (lower and upper bounds)\n",
        "lower_bound = np.percentile(predictions, 2.5, axis=0)\n",
        "upper_bound = np.percentile(predictions, 97.5, axis=0)\n",
        "\n",
        "# Print or use the confidence intervals as needed\n",
        "print(\"Lower Bound of Confidence Interval:\", lower_bound)\n",
        "print(\"Upper Bound of Confidence Interval:\", upper_bound)\n"
      ],
      "metadata": {
        "id": "2zqnEHiecWbz"
      },
      "execution_count": null,
      "outputs": []
    },
    {
      "cell_type": "code",
      "source": [],
      "metadata": {
        "id": "Paqc1ihhdSMZ"
      },
      "execution_count": null,
      "outputs": []
    }
  ],
  "metadata": {
    "kernelspec": {
      "display_name": ".venv",
      "language": "python",
      "name": "python3"
    },
    "language_info": {
      "codemirror_mode": {
        "name": "ipython",
        "version": 3
      },
      "file_extension": ".py",
      "mimetype": "text/x-python",
      "name": "python",
      "nbconvert_exporter": "python",
      "pygments_lexer": "ipython3",
      "version": "3.10.12"
    },
    "colab": {
      "provenance": []
    }
  },
  "nbformat": 4,
  "nbformat_minor": 0
}